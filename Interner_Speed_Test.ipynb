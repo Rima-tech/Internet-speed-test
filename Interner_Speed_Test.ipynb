{
 "cells": [
  {
   "cell_type": "code",
   "execution_count": null,
   "id": "7a93da66",
   "metadata": {},
   "outputs": [],
   "source": [
    "from tkinter import*\n",
    "import speedtest\n",
    "def checkspeed():\n",
    "    sp=speedtest.Speedtest()\n",
    "    sp.get_servers()\n",
    "    down=str(round(sp.download()//(10**6),3))+\"Mbps\"\n",
    "    up=str(round(sp.upload()//(10**6),3))+\"Mbps\"\n",
    "    lab_down.config(text=down)\n",
    "    lab_up.config(text=up)\n",
    "           \n",
    "sp=Tk()\n",
    "sp.title(\"Internet Speed Test\")\n",
    "sp.geometry(\"500x550\")\n",
    "sp.config(bg=\"Navy\")\n",
    "\n",
    "lab=Label(sp, text=\"Internet Speed test\",font=(\"Times\",20,\"bold\"))\n",
    "lab.place(x=100,y=40, height=50,width=300)\n",
    "\n",
    "lab=Label(sp, text=\"Download speed\",font=(\"Times\",20,\"bold\"))\n",
    "lab.place(x=100,y=130, height=50,width=300)\n",
    "           \n",
    "lab_down=Label(sp, text=\"00\",font=(\"Times\",20,\"bold\"))\n",
    "lab_down.place(x=100,y=200, height=50,width=300)\n",
    "\n",
    "lab=Label(sp, text=\"Upload Speed\",font=(\"Times\",20,\"bold\"))\n",
    "lab.place(x=100,y=290, height=50,width=300)\n",
    "\n",
    "lab_up=Label(sp, text=\"00\",font=(\"Times\",20,\"bold\"))\n",
    "lab_up.place(x=100,y=360, height=50,width=300)\n",
    "           \n",
    "button= Button(sp, text=\"Check Speed\",font=(\"Times\",20,\"bold\"),bg=\"red\",\n",
    "               relief=RAISED , command=checkspeed)\n",
    "button.place(x=150,y=460, height=50,width=200)\n",
    "mainloop()          "
   ]
  },
  {
   "cell_type": "code",
   "execution_count": null,
   "id": "d02e9e39",
   "metadata": {},
   "outputs": [],
   "source": []
  },
  {
   "cell_type": "code",
   "execution_count": null,
   "id": "fa07ccce",
   "metadata": {},
   "outputs": [],
   "source": []
  }
 ],
 "metadata": {
  "kernelspec": {
   "display_name": "Python 3 (ipykernel)",
   "language": "python",
   "name": "python3"
  },
  "language_info": {
   "codemirror_mode": {
    "name": "ipython",
    "version": 3
   },
   "file_extension": ".py",
   "mimetype": "text/x-python",
   "name": "python",
   "nbconvert_exporter": "python",
   "pygments_lexer": "ipython3",
   "version": "3.9.7"
  }
 },
 "nbformat": 4,
 "nbformat_minor": 5
}
